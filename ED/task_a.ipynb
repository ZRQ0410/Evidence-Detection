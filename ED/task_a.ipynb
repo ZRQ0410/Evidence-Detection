{
 "cells": [
  {
   "cell_type": "markdown",
   "metadata": {
    "id": "BLKUVtZG7syT"
   },
   "source": [
    "# a) Traditional machine learning-based approaches\n",
    "\n",
    "The final model used is SVM with Tf-idf embedding.\n",
    "\n",
    "Link to the model: https://drive.google.com/file/d/1ahOWV7v8W9PMVukCGJ0ClkYWVaN16YaX/view?usp=drive_link"
   ]
  },
  {
   "cell_type": "code",
   "execution_count": null,
   "metadata": {
    "colab": {
     "base_uri": "https://localhost:8080/"
    },
    "executionInfo": {
     "elapsed": 504,
     "status": "ok",
     "timestamp": 1713730023347,
     "user": {
      "displayName": "Meggie Zheng",
      "userId": "02292834133162077889"
     },
     "user_tz": -60
    },
    "id": "6QxmPELxr48U",
    "outputId": "28b82326-2f41-43c9-9714-6fd5be75c756"
   },
   "outputs": [
    {
     "name": "stderr",
     "output_type": "stream",
     "text": [
      "[nltk_data] Downloading package punkt to /root/nltk_data...\n",
      "[nltk_data]   Package punkt is already up-to-date!\n",
      "[nltk_data] Downloading package stopwords to /root/nltk_data...\n",
      "[nltk_data]   Package stopwords is already up-to-date!\n",
      "[nltk_data] Downloading package wordnet to /root/nltk_data...\n",
      "[nltk_data]   Package wordnet is already up-to-date!\n"
     ]
    },
    {
     "data": {
      "text/plain": [
       "True"
      ]
     },
     "execution_count": 22,
     "metadata": {},
     "output_type": "execute_result"
    }
   ],
   "source": [
    "import pandas as pd\n",
    "import numpy as np\n",
    "import re, string\n",
    "import nltk\n",
    "import pickle\n",
    "from nltk.corpus import stopwords\n",
    "from nltk.tokenize import word_tokenize\n",
    "from nltk.stem import WordNetLemmatizer\n",
    "from sklearn.feature_extraction.text import TfidfVectorizer\n",
    "from gensim.models import Word2Vec\n",
    "from sklearn.model_selection import train_test_split\n",
    "from sklearn.linear_model import LogisticRegression\n",
    "from sklearn.naive_bayes import MultinomialNB\n",
    "from sklearn.svm import SVC\n",
    "from sklearn.model_selection import GridSearchCV\n",
    "from sklearn.preprocessing import StandardScaler\n",
    "from sklearn.pipeline import Pipeline\n",
    "from sklearn.metrics import accuracy_score, precision_score, recall_score, f1_score, roc_auc_score\n",
    "from sklearn.metrics import classification_report\n",
    "\n",
    "nltk.download('punkt')\n",
    "nltk.download('stopwords')\n",
    "nltk.download('wordnet')"
   ]
  },
  {
   "cell_type": "markdown",
   "metadata": {
    "id": "unCuSKViEsGI"
   },
   "source": [
    "## Read data"
   ]
  },
  {
   "cell_type": "code",
   "execution_count": null,
   "metadata": {
    "id": "n1dB8TAwsBRl"
   },
   "outputs": [],
   "source": [
    "training_data = pd.read_csv('train.csv')\n",
    "dev_data = pd.read_csv('dev.csv')"
   ]
  },
  {
   "cell_type": "markdown",
   "metadata": {
    "id": "Z3I1teMDEyZz"
   },
   "source": [
    "## Data Preprocess\n",
    "1. Convert to lower case\n",
    "2. Remove punctuation\n",
    "3. tokenize\\\n",
    "   (remove stopwords)\n",
    "4. lemmatize"
   ]
  },
  {
   "cell_type": "code",
   "execution_count": null,
   "metadata": {
    "id": "rQQG_5ETsE1A"
   },
   "outputs": [],
   "source": [
    "# preprocess text\n",
    "def preprocess(text, remove_stop=False):\n",
    "    # to lower case\n",
    "    text = text.lower()\n",
    "    # remove punctuation\n",
    "    punctuations = string.punctuation\n",
    "    translator = str.maketrans('', '', punctuations)\n",
    "    text = text.translate(translator)\n",
    "    # tokenize\n",
    "    tokens = word_tokenize(text)\n",
    "    if remove_stop:\n",
    "        # remove stopwords\n",
    "        stop_words = set(stopwords.words('english'))\n",
    "        tokens = [word for word in tokens if word not in stop_words]\n",
    "    # lemmatize\n",
    "    lemmatizer = WordNetLemmatizer()\n",
    "    tokens = [lemmatizer.lemmatize(w) for w in tokens]\n",
    "\n",
    "    return ' '.join(tokens)"
   ]
  },
  {
   "cell_type": "code",
   "execution_count": null,
   "metadata": {
    "id": "iSwBWnR6E5QR"
   },
   "outputs": [],
   "source": [
    "def get_combined_lst(claim, evidence):\n",
    "    # preprocess\n",
    "    claim = claim.map(preprocess)\n",
    "    evidence = evidence.map(preprocess)\n",
    "\n",
    "    # add claim sentence to odd rows, evidence sentence to even rows\n",
    "    lst = []\n",
    "    claim = list(claim)\n",
    "    evidence = list(evidence)\n",
    "\n",
    "    for i in range(len(claim)):\n",
    "        lst.append(claim[i])\n",
    "        lst.append(evidence[i])\n",
    "    return lst"
   ]
  },
  {
   "cell_type": "markdown",
   "metadata": {
    "id": "yyq376DsGjm8"
   },
   "source": [
    "Combine the claim and evidence into one list, where odd rows represent the claim, and even rows represent the evidence.\n",
    "\n",
    "Eg.\\\n",
    "claim1\\\n",
    "evidence1\\\n",
    "claim2\\\n",
    "evidence2\\\n",
    "..."
   ]
  },
  {
   "cell_type": "code",
   "execution_count": null,
   "metadata": {
    "id": "3e-k9EHNFO0L"
   },
   "outputs": [],
   "source": [
    "lst_train = get_combined_lst(training_data['Claim'], training_data['Evidence'])\n",
    "lst_dev = get_combined_lst(dev_data['Claim'], dev_data['Evidence'])"
   ]
  },
  {
   "cell_type": "code",
   "execution_count": null,
   "metadata": {
    "colab": {
     "base_uri": "https://localhost:8080/",
     "height": 53
    },
    "executionInfo": {
     "elapsed": 108,
     "status": "ok",
     "timestamp": 1713728348413,
     "user": {
      "displayName": "Meggie Zheng",
      "userId": "02292834133162077889"
     },
     "user_tz": -60
    },
    "id": "iqQHP0Z3QTL1",
    "outputId": "35b2787c-3619-4363-d9dd-c1a8c2e20010"
   },
   "outputs": [
    {
     "data": {
      "application/vnd.google.colaboratory.intrinsic+json": {
       "type": "string"
      },
      "text/plain": [
       "'seeing the involvement of the coca grower the bolivian government claimed that the demonstrator were actually agent or pawn of drug trafficker ref'"
      ]
     },
     "execution_count": 7,
     "metadata": {},
     "output_type": "execute_result"
    }
   ],
   "source": [
    "lst_dev[1]"
   ]
  },
  {
   "cell_type": "markdown",
   "metadata": {
    "id": "Red_2_S6F0bp"
   },
   "source": [
    "## Word Embedding\n",
    "\n",
    "Convert the training data and development data into matrix."
   ]
  },
  {
   "cell_type": "markdown",
   "metadata": {
    "id": "5oh-9PrFNDvz"
   },
   "source": [
    "### Tf-idf"
   ]
  },
  {
   "cell_type": "code",
   "execution_count": null,
   "metadata": {
    "id": "C_N2Vm07E5XU"
   },
   "outputs": [],
   "source": [
    "vectorizer = TfidfVectorizer()\n",
    "tfidf_train = vectorizer.fit_transform(lst_train)\n",
    "tfidf_dev = vectorizer.transform(lst_dev)"
   ]
  },
  {
   "cell_type": "markdown",
   "metadata": {
    "id": "7MULijyOIbq7"
   },
   "source": [
    "Compute the difference between a claim and its corresponding evidence."
   ]
  },
  {
   "cell_type": "code",
   "execution_count": null,
   "metadata": {
    "id": "KX-XPd8dFKOK"
   },
   "outputs": [],
   "source": [
    "diff_train = np.abs(tfidf_train[0::2] - tfidf_train[1::2])\n",
    "diff_dev = np.abs(tfidf_dev[0::2] - tfidf_dev[1::2])"
   ]
  },
  {
   "cell_type": "markdown",
   "metadata": {
    "id": "LKnBlhFjN77y"
   },
   "source": [
    "### Word2Vec\n",
    "To compare with Tf-idf method."
   ]
  },
  {
   "cell_type": "code",
   "execution_count": null,
   "metadata": {
    "id": "acAaQFLCPVa7"
   },
   "outputs": [],
   "source": [
    "# split each sentence into tokens\n",
    "w2v_train = []\n",
    "for i in range(len(lst_train)):\n",
    "    w2v_train.append(lst_train[i].split())\n",
    "\n",
    "w2v_dev = []\n",
    "for i in range(len(lst_dev)):\n",
    "    w2v_dev.append(lst_dev[i].split())"
   ]
  },
  {
   "cell_type": "code",
   "execution_count": null,
   "metadata": {
    "colab": {
     "base_uri": "https://localhost:8080/"
    },
    "executionInfo": {
     "elapsed": 3,
     "status": "ok",
     "timestamp": 1713728490682,
     "user": {
      "displayName": "Meggie Zheng",
      "userId": "02292834133162077889"
     },
     "user_tz": -60
    },
    "id": "k05aSIMoOFoC",
    "outputId": "74ff1e03-4d9c-47fc-9aef-53d0f8179c29"
   },
   "outputs": [
    {
     "name": "stdout",
     "output_type": "stream",
     "text": [
      "['seeing', 'the', 'involvement', 'of', 'the', 'coca', 'grower', 'the', 'bolivian', 'government', 'claimed', 'that', 'the', 'demonstrator', 'were', 'actually', 'agent', 'or', 'pawn', 'of', 'drug', 'trafficker', 'ref']\n"
     ]
    }
   ],
   "source": [
    "print(w2v_dev[1])"
   ]
  },
  {
   "cell_type": "code",
   "execution_count": null,
   "metadata": {
    "id": "MHVfCKCRQ2TT"
   },
   "outputs": [],
   "source": [
    "# take a token list as input and computer the averaged vector for the entire sentence\n",
    "def get_average_word2vec(tokens_list, vector, size):\n",
    "    vectorized = [vector[w] if w in vector else np.zeros(size) for w in tokens_list]\n",
    "    summed = np.sum(vectorized, axis=0)\n",
    "    averaged = np.divide(summed, size)\n",
    "    return averaged"
   ]
  },
  {
   "cell_type": "markdown",
   "metadata": {
    "id": "b0_3h1N3RzuJ"
   },
   "source": [
    "Build the word to vector model:"
   ]
  },
  {
   "cell_type": "code",
   "execution_count": null,
   "metadata": {
    "id": "rihnMuOGRaCQ"
   },
   "outputs": [],
   "source": [
    "model_w2v = Word2Vec(w2v_train, vector_size=100, window=5, min_count=1, workers=4, sg=1)"
   ]
  },
  {
   "cell_type": "markdown",
   "metadata": {
    "id": "QzCNdpcYSWFf"
   },
   "source": [
    "**Input features:**\n",
    "\n",
    "Compute the different between the claim and its evidence."
   ]
  },
  {
   "cell_type": "code",
   "execution_count": null,
   "metadata": {
    "id": "MsXlpj5WR_9k"
   },
   "outputs": [],
   "source": [
    "diff_w2v_train = []\n",
    "for i in range(0, len(w2v_train)-1, 2):\n",
    "    diff_w2v_train.append(np.abs(get_average_word2vec(w2v_train[i], model_w2v.wv, 100) -\n",
    "                                 get_average_word2vec(w2v_train[i+1], model_w2v.wv, 100)))\n",
    "\n",
    "diff_w2v_dev = []\n",
    "for i in range(0, len(w2v_dev)-1, 2):\n",
    "    diff_w2v_dev.append(np.abs(get_average_word2vec(w2v_dev[i], model_w2v.wv, 100) -\n",
    "                                 get_average_word2vec(w2v_dev[i+1], model_w2v.wv, 100)))"
   ]
  },
  {
   "cell_type": "markdown",
   "metadata": {
    "id": "91Xl26yYI3jq"
   },
   "source": [
    "## Experiments\n",
    "In this section, we compare the reuslts of the two word embedding technique: tf-idf and word2vec.\n",
    "\n",
    "And compare the performace of different models: logistic regression, support vector machine and naive bayes."
   ]
  },
  {
   "cell_type": "code",
   "execution_count": null,
   "metadata": {
    "id": "-L0ea2n8aEvK"
   },
   "outputs": [],
   "source": [
    "X_train_tfidf = diff_train  # tf-idf\n",
    "X_train_w2v = diff_w2v_train  # word2vec\n",
    "y_train = training_data['label']\n",
    "\n",
    "X_dev_tfidf = diff_dev  # tf-idf\n",
    "X_dev_w2v = diff_w2v_dev  # word2vec\n",
    "y_dev = dev_data['label']"
   ]
  },
  {
   "cell_type": "markdown",
   "metadata": {
    "id": "Ge1-u-1vZo17"
   },
   "source": [
    "### Logistic regression"
   ]
  },
  {
   "cell_type": "code",
   "execution_count": null,
   "metadata": {
    "colab": {
     "base_uri": "https://localhost:8080/"
    },
    "executionInfo": {
     "elapsed": 3198,
     "status": "ok",
     "timestamp": 1713734032688,
     "user": {
      "displayName": "Meggie Zheng",
      "userId": "02292834133162077889"
     },
     "user_tz": -60
    },
    "id": "4pIPJ3gfIO0j",
    "outputId": "55c9a4f4-5cc4-4082-bd88-2e833832f0dd"
   },
   "outputs": [
    {
     "name": "stdout",
     "output_type": "stream",
     "text": [
      "Logistic regression with tf-idf: 0.8182585217684779\n"
     ]
    }
   ],
   "source": [
    "model_lr_tfidf = LogisticRegression(max_iter=1000)\n",
    "model_lr_tfidf.fit(X_train_tfidf, y_train)\n",
    "# predict\n",
    "pred_lr_tfidf = model_lr_tfidf.predict(X_dev_tfidf)\n",
    "\n",
    "print('Logistic regression with tf-idf:', accuracy_score(y_dev, pred_lr_tfidf))"
   ]
  },
  {
   "cell_type": "code",
   "execution_count": null,
   "metadata": {
    "colab": {
     "base_uri": "https://localhost:8080/"
    },
    "executionInfo": {
     "elapsed": 824,
     "status": "ok",
     "timestamp": 1713734035469,
     "user": {
      "displayName": "Meggie Zheng",
      "userId": "02292834133162077889"
     },
     "user_tz": -60
    },
    "id": "k4-6Jny7ZR3d",
    "outputId": "2ca3a134-d6cb-4920-e8ef-75ca5826617c"
   },
   "outputs": [
    {
     "name": "stdout",
     "output_type": "stream",
     "text": [
      "Logistic regression with word2vec: 0.7472156598042524\n"
     ]
    }
   ],
   "source": [
    "model_lr_w2v = LogisticRegression(max_iter=1000)\n",
    "model_lr_w2v.fit(X_train_w2v, y_train)\n",
    "# predict\n",
    "pred_lr_w2v = model_lr_w2v.predict(X_dev_w2v)\n",
    "\n",
    "print('Logistic regression with word2vec:', accuracy_score(y_dev, pred_lr_w2v))"
   ]
  },
  {
   "cell_type": "markdown",
   "metadata": {
    "id": "F6_x621fc8Wm"
   },
   "source": [
    "### Naive Bayes"
   ]
  },
  {
   "cell_type": "code",
   "execution_count": null,
   "metadata": {
    "colab": {
     "base_uri": "https://localhost:8080/"
    },
    "executionInfo": {
     "elapsed": 3,
     "status": "ok",
     "timestamp": 1713734037422,
     "user": {
      "displayName": "Meggie Zheng",
      "userId": "02292834133162077889"
     },
     "user_tz": -60
    },
    "id": "1b6g9ZcVcyBc",
    "outputId": "04a9f62c-ad37-4063-a3b1-011001dc5055"
   },
   "outputs": [
    {
     "name": "stdout",
     "output_type": "stream",
     "text": [
      "Naive Bayes with tf-idf: 0.7686466419169761\n"
     ]
    }
   ],
   "source": [
    "model_nb_tfidf = MultinomialNB()\n",
    "model_nb_tfidf.fit(X_train_tfidf, y_train)\n",
    "# predict\n",
    "pred_nb_tfidf = model_nb_tfidf.predict(X_dev_tfidf)\n",
    "\n",
    "print('Naive Bayes with tf-idf:', accuracy_score(y_dev, pred_nb_tfidf))"
   ]
  },
  {
   "cell_type": "code",
   "execution_count": null,
   "metadata": {
    "colab": {
     "base_uri": "https://localhost:8080/"
    },
    "executionInfo": {
     "elapsed": 211,
     "status": "ok",
     "timestamp": 1713734039377,
     "user": {
      "displayName": "Meggie Zheng",
      "userId": "02292834133162077889"
     },
     "user_tz": -60
    },
    "id": "D0elpQ5OZR56",
    "outputId": "a6a71563-2a0e-49be-e2fc-d8d442b5a95a"
   },
   "outputs": [
    {
     "name": "stdout",
     "output_type": "stream",
     "text": [
      "Naive Bayes with word2vec: 0.7301721228484644\n"
     ]
    }
   ],
   "source": [
    "model_nb_w2v = MultinomialNB()\n",
    "model_nb_w2v.fit(X_train_w2v, y_train)\n",
    "# predict\n",
    "pred_nb_w2v = model_nb_w2v.predict(X_dev_w2v)\n",
    "\n",
    "print('Naive Bayes with word2vec:', accuracy_score(y_dev, pred_nb_w2v))"
   ]
  },
  {
   "cell_type": "markdown",
   "metadata": {
    "id": "K3LYFjJXeSmA"
   },
   "source": [
    "### Support vector machine"
   ]
  },
  {
   "cell_type": "code",
   "execution_count": null,
   "metadata": {
    "colab": {
     "base_uri": "https://localhost:8080/"
    },
    "executionInfo": {
     "elapsed": 229,
     "status": "ok",
     "timestamp": 1713734888101,
     "user": {
      "displayName": "Meggie Zheng",
      "userId": "02292834133162077889"
     },
     "user_tz": -60
    },
    "id": "UhP8Pv1neSAA",
    "outputId": "c88d678b-73dd-45ef-8cdd-418d850b42ec"
   },
   "outputs": [
    {
     "name": "stdout",
     "output_type": "stream",
     "text": [
      "SVM with tf-idf (rbf): 0.8212959838002025\n"
     ]
    }
   ],
   "source": [
    "model_svm_tfidf = SVC(kernel='rbf')\n",
    "model_svm_tfidf.fit(X_train_tfidf, y_train)\n",
    "# predict\n",
    "pred_svm_tfidf = model_svm_tfidf.predict(X_dev_tfidf)\n",
    "\n",
    "print('SVM with tf-idf (rbf):', accuracy_score(y_dev, pred_svm_tfidf))"
   ]
  },
  {
   "cell_type": "code",
   "execution_count": null,
   "metadata": {
    "colab": {
     "base_uri": "https://localhost:8080/"
    },
    "executionInfo": {
     "elapsed": 208,
     "status": "ok",
     "timestamp": 1713734895422,
     "user": {
      "displayName": "Meggie Zheng",
      "userId": "02292834133162077889"
     },
     "user_tz": -60
    },
    "id": "3EYtbhi9f13f",
    "outputId": "7e78b528-4132-437b-fb54-b149faf304d9"
   },
   "outputs": [
    {
     "name": "stdout",
     "output_type": "stream",
     "text": [
      "SVM with word2vec (rbf): 0.7593655079311509\n"
     ]
    }
   ],
   "source": [
    "model_svm_w2v = SVC(kernel='rbf')\n",
    "model_svm_w2v.fit(X_train_w2v, y_train)\n",
    "# predict\n",
    "pred_svm_w2v = model_svm_w2v.predict(X_dev_w2v)\n",
    "\n",
    "print('SVM with word2vec (rbf):', accuracy_score(y_dev, pred_svm_w2v))"
   ]
  },
  {
   "cell_type": "code",
   "execution_count": null,
   "metadata": {
    "colab": {
     "base_uri": "https://localhost:8080/"
    },
    "executionInfo": {
     "elapsed": 278608,
     "status": "ok",
     "timestamp": 1713735190341,
     "user": {
      "displayName": "Meggie Zheng",
      "userId": "02292834133162077889"
     },
     "user_tz": -60
    },
    "id": "hjQQy8M7iiVc",
    "outputId": "61b8ae00-903b-4b3f-d741-06e8cd9566f4"
   },
   "outputs": [
    {
     "name": "stdout",
     "output_type": "stream",
     "text": [
      "SVM with tf-idf (linear): 0.8170772865339183\n"
     ]
    }
   ],
   "source": [
    "model_svm_tfidf2 = SVC(kernel='linear')\n",
    "model_svm_tfidf2.fit(X_train_tfidf, y_train)\n",
    "# predict\n",
    "pred_svm_tfidf2 = model_svm_tfidf2.predict(X_dev_tfidf)\n",
    "\n",
    "print('SVM with tf-idf (linear):', accuracy_score(y_dev, pred_svm_tfidf2))"
   ]
  },
  {
   "cell_type": "code",
   "execution_count": null,
   "metadata": {
    "colab": {
     "base_uri": "https://localhost:8080/"
    },
    "executionInfo": {
     "elapsed": 51518,
     "status": "ok",
     "timestamp": 1713735242386,
     "user": {
      "displayName": "Meggie Zheng",
      "userId": "02292834133162077889"
     },
     "user_tz": -60
    },
    "id": "5acexX4yj50K",
    "outputId": "dabea823-dab7-4442-9857-d3b3265915ad"
   },
   "outputs": [
    {
     "name": "stdout",
     "output_type": "stream",
     "text": [
      "SVM with word2vec (linear): 0.7315221059736753\n"
     ]
    }
   ],
   "source": [
    "model_svm_w2v2 = SVC(kernel='linear')\n",
    "model_svm_w2v2.fit(X_train_w2v, y_train)\n",
    "# predict\n",
    "pred_svm_w2v2 = model_svm_w2v2.predict(X_dev_w2v)\n",
    "\n",
    "print('SVM with word2vec (linear):', accuracy_score(y_dev, pred_svm_w2v2))"
   ]
  },
  {
   "cell_type": "markdown",
   "metadata": {
    "id": "j5009SL1jTJ3"
   },
   "source": [
    "### Development dataset results evaluation"
   ]
  },
  {
   "cell_type": "code",
   "execution_count": null,
   "metadata": {
    "colab": {
     "base_uri": "https://localhost:8080/",
     "height": 355
    },
    "executionInfo": {
     "elapsed": 674,
     "status": "ok",
     "timestamp": 1713735420525,
     "user": {
      "displayName": "Meggie Zheng",
      "userId": "02292834133162077889"
     },
     "user_tz": -60
    },
    "id": "iHBd4SF6gCsb",
    "outputId": "096f1f90-ff6f-446f-bc3d-dec1344b091e"
   },
   "outputs": [
    {
     "name": "stderr",
     "output_type": "stream",
     "text": [
      "/usr/local/lib/python3.10/dist-packages/sklearn/metrics/_classification.py:1344: UndefinedMetricWarning: Precision is ill-defined and being set to 0.0 in labels with no predicted samples. Use `zero_division` parameter to control this behavior.\n",
      "  _warn_prf(average, modifier, msg_start, len(result))\n"
     ]
    },
    {
     "data": {
      "application/vnd.google.colaboratory.intrinsic+json": {
       "summary": "{\n  \"name\": \"df_eval\",\n  \"rows\": 8,\n  \"fields\": [\n    {\n      \"column\": \"Model\",\n      \"properties\": {\n        \"dtype\": \"string\",\n        \"num_unique_values\": 8,\n        \"samples\": [\n          \"LR(w2v)\",\n          \"SVM(w2v, rbf)\",\n          \"LR(tfidf)\"\n        ],\n        \"semantic_type\": \"\",\n        \"description\": \"\"\n      }\n    },\n    {\n      \"column\": \"Accuracy\",\n      \"properties\": {\n        \"dtype\": \"number\",\n        \"std\": 0.039047361352227465,\n        \"min\": 0.73,\n        \"max\": 0.821,\n        \"num_unique_values\": 8,\n        \"samples\": [\n          0.747,\n          0.759,\n          0.818\n        ],\n        \"semantic_type\": \"\",\n        \"description\": \"\"\n      }\n    },\n    {\n      \"column\": \"Precision\",\n      \"properties\": {\n        \"dtype\": \"number\",\n        \"std\": 0.1526779406837431,\n        \"min\": 0.365,\n        \"max\": 0.866,\n        \"num_unique_values\": 8,\n        \"samples\": [\n          0.701,\n          0.774,\n          0.78\n        ],\n        \"semantic_type\": \"\",\n        \"description\": \"\"\n      }\n    },\n    {\n      \"column\": \"Recall\",\n      \"properties\": {\n        \"dtype\": \"number\",\n        \"std\": 0.10405458732250655,\n        \"min\": 0.5,\n        \"max\": 0.741,\n        \"num_unique_values\": 8,\n        \"samples\": [\n          0.555,\n          0.566,\n          0.731\n        ],\n        \"semantic_type\": \"\",\n        \"description\": \"\"\n      }\n    },\n    {\n      \"column\": \"F1\",\n      \"properties\": {\n        \"dtype\": \"number\",\n        \"std\": 0.13980081493733454,\n        \"min\": 0.422,\n        \"max\": 0.754,\n        \"num_unique_values\": 8,\n        \"samples\": [\n          0.538,\n          0.552,\n          0.749\n        ],\n        \"semantic_type\": \"\",\n        \"description\": \"\"\n      }\n    },\n    {\n      \"column\": \"AUC\",\n      \"properties\": {\n        \"dtype\": \"number\",\n        \"std\": 0.10405458732250655,\n        \"min\": 0.5,\n        \"max\": 0.741,\n        \"num_unique_values\": 8,\n        \"samples\": [\n          0.555,\n          0.566,\n          0.731\n        ],\n        \"semantic_type\": \"\",\n        \"description\": \"\"\n      }\n    }\n  ]\n}",
       "type": "dataframe",
       "variable_name": "df_eval"
      },
      "text/html": [
       "\n",
       "  <div id=\"df-12844e88-f327-40d6-8dc0-faa529c3165c\" class=\"colab-df-container\">\n",
       "    <div>\n",
       "<style scoped>\n",
       "    .dataframe tbody tr th:only-of-type {\n",
       "        vertical-align: middle;\n",
       "    }\n",
       "\n",
       "    .dataframe tbody tr th {\n",
       "        vertical-align: top;\n",
       "    }\n",
       "\n",
       "    .dataframe thead th {\n",
       "        text-align: right;\n",
       "    }\n",
       "</style>\n",
       "<table border=\"1\" class=\"dataframe\">\n",
       "  <thead>\n",
       "    <tr style=\"text-align: right;\">\n",
       "      <th></th>\n",
       "      <th>Model</th>\n",
       "      <th>Accuracy</th>\n",
       "      <th>Precision</th>\n",
       "      <th>Recall</th>\n",
       "      <th>F1</th>\n",
       "      <th>AUC</th>\n",
       "    </tr>\n",
       "  </thead>\n",
       "  <tbody>\n",
       "    <tr>\n",
       "      <th>0</th>\n",
       "      <td>LR(tfidf)</td>\n",
       "      <td>0.818</td>\n",
       "      <td>0.780</td>\n",
       "      <td>0.731</td>\n",
       "      <td>0.749</td>\n",
       "      <td>0.731</td>\n",
       "    </tr>\n",
       "    <tr>\n",
       "      <th>1</th>\n",
       "      <td>LR(w2v)</td>\n",
       "      <td>0.747</td>\n",
       "      <td>0.701</td>\n",
       "      <td>0.555</td>\n",
       "      <td>0.538</td>\n",
       "      <td>0.555</td>\n",
       "    </tr>\n",
       "    <tr>\n",
       "      <th>2</th>\n",
       "      <td>Naive Bayes(tfidf)</td>\n",
       "      <td>0.769</td>\n",
       "      <td>0.766</td>\n",
       "      <td>0.592</td>\n",
       "      <td>0.593</td>\n",
       "      <td>0.592</td>\n",
       "    </tr>\n",
       "    <tr>\n",
       "      <th>3</th>\n",
       "      <td>Naive Bayes(w2v)</td>\n",
       "      <td>0.730</td>\n",
       "      <td>0.365</td>\n",
       "      <td>0.500</td>\n",
       "      <td>0.422</td>\n",
       "      <td>0.500</td>\n",
       "    </tr>\n",
       "    <tr>\n",
       "      <th>4</th>\n",
       "      <td>SVM(tfidf, rbf)</td>\n",
       "      <td>0.821</td>\n",
       "      <td>0.786</td>\n",
       "      <td>0.734</td>\n",
       "      <td>0.752</td>\n",
       "      <td>0.734</td>\n",
       "    </tr>\n",
       "    <tr>\n",
       "      <th>5</th>\n",
       "      <td>SVM(w2v, rbf)</td>\n",
       "      <td>0.759</td>\n",
       "      <td>0.774</td>\n",
       "      <td>0.566</td>\n",
       "      <td>0.552</td>\n",
       "      <td>0.566</td>\n",
       "    </tr>\n",
       "    <tr>\n",
       "      <th>6</th>\n",
       "      <td>SVM(tfidf, linear)</td>\n",
       "      <td>0.817</td>\n",
       "      <td>0.773</td>\n",
       "      <td>0.741</td>\n",
       "      <td>0.754</td>\n",
       "      <td>0.741</td>\n",
       "    </tr>\n",
       "    <tr>\n",
       "      <th>7</th>\n",
       "      <td>SVM(w2v, linear)</td>\n",
       "      <td>0.732</td>\n",
       "      <td>0.866</td>\n",
       "      <td>0.503</td>\n",
       "      <td>0.427</td>\n",
       "      <td>0.503</td>\n",
       "    </tr>\n",
       "  </tbody>\n",
       "</table>\n",
       "</div>\n",
       "    <div class=\"colab-df-buttons\">\n",
       "\n",
       "  <div class=\"colab-df-container\">\n",
       "    <button class=\"colab-df-convert\" onclick=\"convertToInteractive('df-12844e88-f327-40d6-8dc0-faa529c3165c')\"\n",
       "            title=\"Convert this dataframe to an interactive table.\"\n",
       "            style=\"display:none;\">\n",
       "\n",
       "  <svg xmlns=\"http://www.w3.org/2000/svg\" height=\"24px\" viewBox=\"0 -960 960 960\">\n",
       "    <path d=\"M120-120v-720h720v720H120Zm60-500h600v-160H180v160Zm220 220h160v-160H400v160Zm0 220h160v-160H400v160ZM180-400h160v-160H180v160Zm440 0h160v-160H620v160ZM180-180h160v-160H180v160Zm440 0h160v-160H620v160Z\"/>\n",
       "  </svg>\n",
       "    </button>\n",
       "\n",
       "  <style>\n",
       "    .colab-df-container {\n",
       "      display:flex;\n",
       "      gap: 12px;\n",
       "    }\n",
       "\n",
       "    .colab-df-convert {\n",
       "      background-color: #E8F0FE;\n",
       "      border: none;\n",
       "      border-radius: 50%;\n",
       "      cursor: pointer;\n",
       "      display: none;\n",
       "      fill: #1967D2;\n",
       "      height: 32px;\n",
       "      padding: 0 0 0 0;\n",
       "      width: 32px;\n",
       "    }\n",
       "\n",
       "    .colab-df-convert:hover {\n",
       "      background-color: #E2EBFA;\n",
       "      box-shadow: 0px 1px 2px rgba(60, 64, 67, 0.3), 0px 1px 3px 1px rgba(60, 64, 67, 0.15);\n",
       "      fill: #174EA6;\n",
       "    }\n",
       "\n",
       "    .colab-df-buttons div {\n",
       "      margin-bottom: 4px;\n",
       "    }\n",
       "\n",
       "    [theme=dark] .colab-df-convert {\n",
       "      background-color: #3B4455;\n",
       "      fill: #D2E3FC;\n",
       "    }\n",
       "\n",
       "    [theme=dark] .colab-df-convert:hover {\n",
       "      background-color: #434B5C;\n",
       "      box-shadow: 0px 1px 3px 1px rgba(0, 0, 0, 0.15);\n",
       "      filter: drop-shadow(0px 1px 2px rgba(0, 0, 0, 0.3));\n",
       "      fill: #FFFFFF;\n",
       "    }\n",
       "  </style>\n",
       "\n",
       "    <script>\n",
       "      const buttonEl =\n",
       "        document.querySelector('#df-12844e88-f327-40d6-8dc0-faa529c3165c button.colab-df-convert');\n",
       "      buttonEl.style.display =\n",
       "        google.colab.kernel.accessAllowed ? 'block' : 'none';\n",
       "\n",
       "      async function convertToInteractive(key) {\n",
       "        const element = document.querySelector('#df-12844e88-f327-40d6-8dc0-faa529c3165c');\n",
       "        const dataTable =\n",
       "          await google.colab.kernel.invokeFunction('convertToInteractive',\n",
       "                                                    [key], {});\n",
       "        if (!dataTable) return;\n",
       "\n",
       "        const docLinkHtml = 'Like what you see? Visit the ' +\n",
       "          '<a target=\"_blank\" href=https://colab.research.google.com/notebooks/data_table.ipynb>data table notebook</a>'\n",
       "          + ' to learn more about interactive tables.';\n",
       "        element.innerHTML = '';\n",
       "        dataTable['output_type'] = 'display_data';\n",
       "        await google.colab.output.renderOutput(dataTable, element);\n",
       "        const docLink = document.createElement('div');\n",
       "        docLink.innerHTML = docLinkHtml;\n",
       "        element.appendChild(docLink);\n",
       "      }\n",
       "    </script>\n",
       "  </div>\n",
       "\n",
       "\n",
       "<div id=\"df-3914abaa-141b-47ce-ac59-ab92e9540e72\">\n",
       "  <button class=\"colab-df-quickchart\" onclick=\"quickchart('df-3914abaa-141b-47ce-ac59-ab92e9540e72')\"\n",
       "            title=\"Suggest charts\"\n",
       "            style=\"display:none;\">\n",
       "\n",
       "<svg xmlns=\"http://www.w3.org/2000/svg\" height=\"24px\"viewBox=\"0 0 24 24\"\n",
       "     width=\"24px\">\n",
       "    <g>\n",
       "        <path d=\"M19 3H5c-1.1 0-2 .9-2 2v14c0 1.1.9 2 2 2h14c1.1 0 2-.9 2-2V5c0-1.1-.9-2-2-2zM9 17H7v-7h2v7zm4 0h-2V7h2v10zm4 0h-2v-4h2v4z\"/>\n",
       "    </g>\n",
       "</svg>\n",
       "  </button>\n",
       "\n",
       "<style>\n",
       "  .colab-df-quickchart {\n",
       "      --bg-color: #E8F0FE;\n",
       "      --fill-color: #1967D2;\n",
       "      --hover-bg-color: #E2EBFA;\n",
       "      --hover-fill-color: #174EA6;\n",
       "      --disabled-fill-color: #AAA;\n",
       "      --disabled-bg-color: #DDD;\n",
       "  }\n",
       "\n",
       "  [theme=dark] .colab-df-quickchart {\n",
       "      --bg-color: #3B4455;\n",
       "      --fill-color: #D2E3FC;\n",
       "      --hover-bg-color: #434B5C;\n",
       "      --hover-fill-color: #FFFFFF;\n",
       "      --disabled-bg-color: #3B4455;\n",
       "      --disabled-fill-color: #666;\n",
       "  }\n",
       "\n",
       "  .colab-df-quickchart {\n",
       "    background-color: var(--bg-color);\n",
       "    border: none;\n",
       "    border-radius: 50%;\n",
       "    cursor: pointer;\n",
       "    display: none;\n",
       "    fill: var(--fill-color);\n",
       "    height: 32px;\n",
       "    padding: 0;\n",
       "    width: 32px;\n",
       "  }\n",
       "\n",
       "  .colab-df-quickchart:hover {\n",
       "    background-color: var(--hover-bg-color);\n",
       "    box-shadow: 0 1px 2px rgba(60, 64, 67, 0.3), 0 1px 3px 1px rgba(60, 64, 67, 0.15);\n",
       "    fill: var(--button-hover-fill-color);\n",
       "  }\n",
       "\n",
       "  .colab-df-quickchart-complete:disabled,\n",
       "  .colab-df-quickchart-complete:disabled:hover {\n",
       "    background-color: var(--disabled-bg-color);\n",
       "    fill: var(--disabled-fill-color);\n",
       "    box-shadow: none;\n",
       "  }\n",
       "\n",
       "  .colab-df-spinner {\n",
       "    border: 2px solid var(--fill-color);\n",
       "    border-color: transparent;\n",
       "    border-bottom-color: var(--fill-color);\n",
       "    animation:\n",
       "      spin 1s steps(1) infinite;\n",
       "  }\n",
       "\n",
       "  @keyframes spin {\n",
       "    0% {\n",
       "      border-color: transparent;\n",
       "      border-bottom-color: var(--fill-color);\n",
       "      border-left-color: var(--fill-color);\n",
       "    }\n",
       "    20% {\n",
       "      border-color: transparent;\n",
       "      border-left-color: var(--fill-color);\n",
       "      border-top-color: var(--fill-color);\n",
       "    }\n",
       "    30% {\n",
       "      border-color: transparent;\n",
       "      border-left-color: var(--fill-color);\n",
       "      border-top-color: var(--fill-color);\n",
       "      border-right-color: var(--fill-color);\n",
       "    }\n",
       "    40% {\n",
       "      border-color: transparent;\n",
       "      border-right-color: var(--fill-color);\n",
       "      border-top-color: var(--fill-color);\n",
       "    }\n",
       "    60% {\n",
       "      border-color: transparent;\n",
       "      border-right-color: var(--fill-color);\n",
       "    }\n",
       "    80% {\n",
       "      border-color: transparent;\n",
       "      border-right-color: var(--fill-color);\n",
       "      border-bottom-color: var(--fill-color);\n",
       "    }\n",
       "    90% {\n",
       "      border-color: transparent;\n",
       "      border-bottom-color: var(--fill-color);\n",
       "    }\n",
       "  }\n",
       "</style>\n",
       "\n",
       "  <script>\n",
       "    async function quickchart(key) {\n",
       "      const quickchartButtonEl =\n",
       "        document.querySelector('#' + key + ' button');\n",
       "      quickchartButtonEl.disabled = true;  // To prevent multiple clicks.\n",
       "      quickchartButtonEl.classList.add('colab-df-spinner');\n",
       "      try {\n",
       "        const charts = await google.colab.kernel.invokeFunction(\n",
       "            'suggestCharts', [key], {});\n",
       "      } catch (error) {\n",
       "        console.error('Error during call to suggestCharts:', error);\n",
       "      }\n",
       "      quickchartButtonEl.classList.remove('colab-df-spinner');\n",
       "      quickchartButtonEl.classList.add('colab-df-quickchart-complete');\n",
       "    }\n",
       "    (() => {\n",
       "      let quickchartButtonEl =\n",
       "        document.querySelector('#df-3914abaa-141b-47ce-ac59-ab92e9540e72 button');\n",
       "      quickchartButtonEl.style.display =\n",
       "        google.colab.kernel.accessAllowed ? 'block' : 'none';\n",
       "    })();\n",
       "  </script>\n",
       "</div>\n",
       "    </div>\n",
       "  </div>\n"
      ],
      "text/plain": [
       "                Model  Accuracy  Precision  Recall     F1    AUC\n",
       "0           LR(tfidf)     0.818      0.780   0.731  0.749  0.731\n",
       "1             LR(w2v)     0.747      0.701   0.555  0.538  0.555\n",
       "2  Naive Bayes(tfidf)     0.769      0.766   0.592  0.593  0.592\n",
       "3    Naive Bayes(w2v)     0.730      0.365   0.500  0.422  0.500\n",
       "4     SVM(tfidf, rbf)     0.821      0.786   0.734  0.752  0.734\n",
       "5       SVM(w2v, rbf)     0.759      0.774   0.566  0.552  0.566\n",
       "6  SVM(tfidf, linear)     0.817      0.773   0.741  0.754  0.741\n",
       "7    SVM(w2v, linear)     0.732      0.866   0.503  0.427  0.503"
      ]
     },
     "execution_count": 51,
     "metadata": {},
     "output_type": "execute_result"
    }
   ],
   "source": [
    "pred_results = [pred_lr_tfidf, pred_lr_w2v, pred_nb_tfidf, pred_nb_w2v, pred_svm_tfidf, pred_svm_w2v, pred_svm_tfidf2, pred_svm_w2v2]\n",
    "models = ['LR(tfidf)', 'LR(w2v)', 'Naive Bayes(tfidf)', 'Naive Bayes(w2v)', 'SVM(tfidf, rbf)', 'SVM(w2v, rbf)', 'SVM(tfidf, linear)', 'SVM(w2v, linear)']\n",
    "results = []\n",
    "for i in range(len(pred_results)):\n",
    "    acc = float(np.round(accuracy_score(y_dev, pred_results[i]), 3))\n",
    "    # calculate metrics for each label, and find their unweighted mean\n",
    "    precision = float(np.round(precision_score(y_dev, pred_results[i], average='macro'), 3))\n",
    "    recall = float(np.round(recall_score(y_dev, pred_results[i], average='macro'), 3))\n",
    "    f1 = float(np.round(f1_score(y_dev, pred_results[i], average='macro'), 3))\n",
    "    auc = float(np.round(roc_auc_score(y_dev, pred_results[i]), 3))\n",
    "    results.append([models[i], acc, precision, recall, f1, auc])\n",
    "\n",
    "df_eval = pd.DataFrame(results, columns=['Model', 'Accuracy', 'Precision', 'Recall', 'F1', 'AUC'])\n",
    "df_eval"
   ]
  },
  {
   "cell_type": "markdown",
   "metadata": {
    "id": "ClG4V7L5t025"
   },
   "source": [
    "From the table above, we can see the the result of using tf-idf is better than the result of word2vec. Specifically, the F1 score is much lower when using word2vec.\n",
    "\n",
    "With tf-idf, logistic regression and SVM can achieve an accuracy of around 0.82, and SVM (with rbf kernel) slightly outperforms logistic regression. The result of Naive Bayes gives the worst result.\n",
    "\n",
    "Hence, next stage we choose logistic regression and SVM to fine-tune the parameters, to see if we can improve the model performance."
   ]
  },
  {
   "cell_type": "markdown",
   "metadata": {
    "id": "1XiM_KchvSh6"
   },
   "source": [
    "## Fine-tune"
   ]
  },
  {
   "cell_type": "markdown",
   "metadata": {
    "id": "2VdwQfTpv1ck"
   },
   "source": [
    "### Logistic Regression"
   ]
  },
  {
   "cell_type": "code",
   "execution_count": null,
   "metadata": {
    "colab": {
     "base_uri": "https://localhost:8080/"
    },
    "executionInfo": {
     "elapsed": 142829,
     "status": "ok",
     "timestamp": 1713721844955,
     "user": {
      "displayName": "Meggie Zheng",
      "userId": "02292834133162077889"
     },
     "user_tz": -60
    },
    "id": "YrIpA274xdh6",
    "outputId": "53c0c2d4-8976-4c94-d13b-9a81b05e64a9"
   },
   "outputs": [
    {
     "name": "stdout",
     "output_type": "stream",
     "text": [
      "Fitting 5 folds for each of 8 candidates, totalling 40 fits\n",
      "Best parameters: {'C': 2}\n",
      "Best cross-validation score: 0.82\n"
     ]
    }
   ],
   "source": [
    "model = LogisticRegression(max_iter=10000, tol=0.1)\n",
    "\n",
    "param_grid = {\n",
    "    # strength of regularization, larger C leads to stronger regularization\n",
    "    'C': [1, 2, 3, 4, 5, 6, 7, 8]\n",
    "}\n",
    "\n",
    "grid = GridSearchCV(model, param_grid, cv=5, scoring='accuracy', verbose=1)\n",
    "grid.fit(X_train_tfidf, y_train)\n",
    "\n",
    "print(\"Best parameters:\", grid.best_params_)\n",
    "print(\"Best cross-validation score: {:.2f}\".format(grid.best_score_))"
   ]
  },
  {
   "cell_type": "markdown",
   "metadata": {
    "id": "TXLhFvVgxQ3Q"
   },
   "source": [
    "Set C = 2:"
   ]
  },
  {
   "cell_type": "code",
   "execution_count": null,
   "metadata": {
    "colab": {
     "base_uri": "https://localhost:8080/"
    },
    "executionInfo": {
     "elapsed": 182,
     "status": "ok",
     "timestamp": 1713735706606,
     "user": {
      "displayName": "Meggie Zheng",
      "userId": "02292834133162077889"
     },
     "user_tz": -60
    },
    "id": "k1Bk21j7w-Vo",
    "outputId": "c6cb8409-90f1-487b-b973-2d50c90e0c06"
   },
   "outputs": [
    {
     "name": "stdout",
     "output_type": "stream",
     "text": [
      "Accuracy: 0.8150523118461019\n",
      "F1: 0.7475688881737531\n"
     ]
    }
   ],
   "source": [
    "model_lr = LogisticRegression(max_iter=1000, C=2)\n",
    "model_lr.fit(X_train_tfidf, y_train)\n",
    "pred_lr = model_lr.predict(X_dev_tfidf)\n",
    "\n",
    "print('Accuracy:', accuracy_score(y_dev, pred_lr))\n",
    "print('F1:', f1_score(y_dev, pred_lr, average='macro'))"
   ]
  },
  {
   "cell_type": "markdown",
   "metadata": {
    "id": "Hl23En5Bv6UO"
   },
   "source": [
    "### SVM"
   ]
  },
  {
   "cell_type": "code",
   "execution_count": null,
   "metadata": {
    "colab": {
     "base_uri": "https://localhost:8080/"
    },
    "id": "LMelJNF5OLpF",
    "outputId": "0c0f9e8a-b768-40d5-d19d-18ac48b46fcb"
   },
   "outputs": [
    {
     "name": "stdout",
     "output_type": "stream",
     "text": [
      "Fitting 5 folds for each of 25 candidates, totalling 125 fits\n",
      "[CV 1/5] END ........C=0.1, gamma=1, kernel=rbf;, score=0.750 total time= 4.3min\n",
      "[CV 2/5] END ........C=0.1, gamma=1, kernel=rbf;, score=0.755 total time= 4.4min\n",
      "[CV 3/5] END ........C=0.1, gamma=1, kernel=rbf;, score=0.759 total time= 4.4min\n",
      "[CV 4/5] END ........C=0.1, gamma=1, kernel=rbf;, score=0.754 total time= 4.5min\n",
      "[CV 5/5] END ........C=0.1, gamma=1, kernel=rbf;, score=0.754 total time= 4.5min\n",
      "[CV 1/5] END ......C=0.1, gamma=0.1, kernel=rbf;, score=0.737 total time= 2.0min\n",
      "[CV 2/5] END ......C=0.1, gamma=0.1, kernel=rbf;, score=0.745 total time= 2.0min\n",
      "[CV 3/5] END ......C=0.1, gamma=0.1, kernel=rbf;, score=0.748 total time= 2.1min\n",
      "[CV 4/5] END ......C=0.1, gamma=0.1, kernel=rbf;, score=0.741 total time= 2.1min\n",
      "[CV 5/5] END ......C=0.1, gamma=0.1, kernel=rbf;, score=0.744 total time= 2.1min\n",
      "[CV 1/5] END .....C=0.1, gamma=0.01, kernel=rbf;, score=0.726 total time= 2.0min\n",
      "[CV 2/5] END .....C=0.1, gamma=0.01, kernel=rbf;, score=0.726 total time= 2.0min\n",
      "[CV 3/5] END .....C=0.1, gamma=0.01, kernel=rbf;, score=0.726 total time= 2.0min\n",
      "[CV 4/5] END .....C=0.1, gamma=0.01, kernel=rbf;, score=0.726 total time= 2.0min\n",
      "[CV 5/5] END .....C=0.1, gamma=0.01, kernel=rbf;, score=0.726 total time= 1.9min\n",
      "[CV 1/5] END ....C=0.1, gamma=0.001, kernel=rbf;, score=0.726 total time= 1.8min\n",
      "[CV 2/5] END ....C=0.1, gamma=0.001, kernel=rbf;, score=0.726 total time= 1.8min\n",
      "[CV 3/5] END ....C=0.1, gamma=0.001, kernel=rbf;, score=0.726 total time= 1.8min\n",
      "[CV 4/5] END ....C=0.1, gamma=0.001, kernel=rbf;, score=0.726 total time= 1.8min\n",
      "[CV 5/5] END ....C=0.1, gamma=0.001, kernel=rbf;, score=0.726 total time= 1.8min\n",
      "[CV 1/5] END ...C=0.1, gamma=0.0001, kernel=rbf;, score=0.726 total time= 1.7min\n",
      "[CV 2/5] END ...C=0.1, gamma=0.0001, kernel=rbf;, score=0.726 total time= 1.7min\n",
      "[CV 3/5] END ...C=0.1, gamma=0.0001, kernel=rbf;, score=0.726 total time= 1.7min\n",
      "[CV 4/5] END ...C=0.1, gamma=0.0001, kernel=rbf;, score=0.726 total time= 1.7min\n",
      "[CV 5/5] END ...C=0.1, gamma=0.0001, kernel=rbf;, score=0.726 total time= 1.7min\n",
      "[CV 1/5] END ..........C=1, gamma=1, kernel=rbf;, score=0.817 total time= 5.8min\n",
      "[CV 2/5] END ..........C=1, gamma=1, kernel=rbf;, score=0.826 total time= 5.7min\n",
      "[CV 3/5] END ..........C=1, gamma=1, kernel=rbf;, score=0.819 total time= 5.8min\n",
      "[CV 4/5] END ..........C=1, gamma=1, kernel=rbf;, score=0.830 total time= 6.0min\n",
      "[CV 5/5] END ..........C=1, gamma=1, kernel=rbf;, score=0.823 total time= 5.9min\n",
      "[CV 1/5] END ........C=1, gamma=0.1, kernel=rbf;, score=0.800 total time= 1.8min\n",
      "[CV 2/5] END ........C=1, gamma=0.1, kernel=rbf;, score=0.802 total time= 1.9min\n",
      "[CV 3/5] END ........C=1, gamma=0.1, kernel=rbf;, score=0.795 total time= 1.9min\n",
      "[CV 4/5] END ........C=1, gamma=0.1, kernel=rbf;, score=0.804 total time= 1.9min\n",
      "[CV 5/5] END ........C=1, gamma=0.1, kernel=rbf;, score=0.805 total time= 1.9min\n",
      "[CV 1/5] END .......C=1, gamma=0.01, kernel=rbf;, score=0.747 total time= 2.0min\n",
      "[CV 2/5] END .......C=1, gamma=0.01, kernel=rbf;, score=0.750 total time= 2.0min\n",
      "[CV 3/5] END .......C=1, gamma=0.01, kernel=rbf;, score=0.756 total time= 2.0min\n",
      "[CV 4/5] END .......C=1, gamma=0.01, kernel=rbf;, score=0.748 total time= 2.0min\n",
      "[CV 5/5] END .......C=1, gamma=0.01, kernel=rbf;, score=0.749 total time= 2.0min\n",
      "[CV 1/5] END ......C=1, gamma=0.001, kernel=rbf;, score=0.726 total time= 2.0min\n",
      "[CV 2/5] END ......C=1, gamma=0.001, kernel=rbf;, score=0.726 total time= 2.0min\n",
      "[CV 3/5] END ......C=1, gamma=0.001, kernel=rbf;, score=0.726 total time= 2.0min\n",
      "[CV 4/5] END ......C=1, gamma=0.001, kernel=rbf;, score=0.726 total time= 2.0min\n",
      "[CV 5/5] END ......C=1, gamma=0.001, kernel=rbf;, score=0.726 total time= 2.0min\n",
      "[CV 1/5] END .....C=1, gamma=0.0001, kernel=rbf;, score=0.726 total time= 1.8min\n",
      "[CV 2/5] END .....C=1, gamma=0.0001, kernel=rbf;, score=0.726 total time= 1.8min\n",
      "[CV 3/5] END .....C=1, gamma=0.0001, kernel=rbf;, score=0.726 total time= 1.8min\n",
      "[CV 4/5] END .....C=1, gamma=0.0001, kernel=rbf;, score=0.726 total time= 1.8min\n",
      "[CV 5/5] END .....C=1, gamma=0.0001, kernel=rbf;, score=0.726 total time= 1.8min\n",
      "[CV 1/5] END .........C=10, gamma=1, kernel=rbf;, score=0.831 total time= 7.8min\n",
      "[CV 2/5] END .........C=10, gamma=1, kernel=rbf;, score=0.833 total time= 7.8min\n",
      "[CV 3/5] END .........C=10, gamma=1, kernel=rbf;, score=0.828 total time= 7.8min\n",
      "[CV 4/5] END .........C=10, gamma=1, kernel=rbf;, score=0.845 total time= 7.8min\n",
      "[CV 5/5] END .........C=10, gamma=1, kernel=rbf;, score=0.830 total time= 7.9min\n",
      "[CV 1/5] END .......C=10, gamma=0.1, kernel=rbf;, score=0.830 total time= 4.8min\n",
      "[CV 2/5] END .......C=10, gamma=0.1, kernel=rbf;, score=0.822 total time= 4.7min\n",
      "[CV 3/5] END .......C=10, gamma=0.1, kernel=rbf;, score=0.820 total time= 4.7min\n",
      "[CV 4/5] END .......C=10, gamma=0.1, kernel=rbf;, score=0.835 total time= 4.7min\n",
      "[CV 5/5] END .......C=10, gamma=0.1, kernel=rbf;, score=0.820 total time= 4.6min\n",
      "[CV 1/5] END ......C=10, gamma=0.01, kernel=rbf;, score=0.802 total time= 1.8min\n",
      "[CV 2/5] END ......C=10, gamma=0.01, kernel=rbf;, score=0.805 total time= 1.8min\n",
      "[CV 3/5] END ......C=10, gamma=0.01, kernel=rbf;, score=0.796 total time= 1.8min\n",
      "[CV 4/5] END ......C=10, gamma=0.01, kernel=rbf;, score=0.806 total time= 1.8min\n",
      "[CV 5/5] END ......C=10, gamma=0.01, kernel=rbf;, score=0.807 total time= 1.8min\n",
      "[CV 1/5] END .....C=10, gamma=0.001, kernel=rbf;, score=0.748 total time= 2.0min\n",
      "[CV 2/5] END .....C=10, gamma=0.001, kernel=rbf;, score=0.751 total time= 2.0min\n",
      "[CV 3/5] END .....C=10, gamma=0.001, kernel=rbf;, score=0.758 total time= 2.0min\n",
      "[CV 4/5] END .....C=10, gamma=0.001, kernel=rbf;, score=0.748 total time= 2.0min\n",
      "[CV 5/5] END .....C=10, gamma=0.001, kernel=rbf;, score=0.750 total time= 2.0min\n",
      "[CV 1/5] END ....C=10, gamma=0.0001, kernel=rbf;, score=0.726 total time= 1.9min\n",
      "[CV 2/5] END ....C=10, gamma=0.0001, kernel=rbf;, score=0.726 total time= 1.9min\n",
      "[CV 3/5] END ....C=10, gamma=0.0001, kernel=rbf;, score=0.726 total time= 1.9min\n",
      "[CV 4/5] END ....C=10, gamma=0.0001, kernel=rbf;, score=0.726 total time= 1.9min\n",
      "[CV 5/5] END ....C=10, gamma=0.0001, kernel=rbf;, score=0.726 total time= 1.9min\n",
      "[CV 1/5] END ........C=100, gamma=1, kernel=rbf;, score=0.830 total time= 7.7min\n",
      "[CV 2/5] END ........C=100, gamma=1, kernel=rbf;, score=0.833 total time= 7.7min\n",
      "[CV 3/5] END ........C=100, gamma=1, kernel=rbf;, score=0.828 total time= 7.8min\n"
     ]
    }
   ],
   "source": [
    "param_grid = {'C': [0.1, 1, 10, 100, 1000],  # regularization\n",
    "              'gamma': [1, 0.1, 0.01, 0.001, 0.0001],  # kernel coefficient, control the influence of distance\n",
    "              'kernel': ['rbf']}  # Gaussian kernel\n",
    "\n",
    "grid = GridSearchCV(SVC(), param_grid, refit=True, verbose=3)\n",
    "\n",
    "# fitting the model for grid search\n",
    "grid.fit(X_train_tfidf, y_train)\n",
    "\n",
    "\n",
    "print(grid.best_params_)\n",
    "print(grid.best_estimator_)"
   ]
  },
  {
   "cell_type": "markdown",
   "metadata": {
    "id": "MRRz55iKm_72"
   },
   "source": [
    "Set C = 10, gamma = 1:"
   ]
  },
  {
   "cell_type": "code",
   "execution_count": null,
   "metadata": {
    "colab": {
     "base_uri": "https://localhost:8080/"
    },
    "executionInfo": {
     "elapsed": 3,
     "status": "ok",
     "timestamp": 1713735685142,
     "user": {
      "displayName": "Meggie Zheng",
      "userId": "02292834133162077889"
     },
     "user_tz": -60
    },
    "id": "7GpAziWQXhAD",
    "outputId": "640bd52f-b911-4167-9819-2db9c49f1de4"
   },
   "outputs": [
    {
     "name": "stdout",
     "output_type": "stream",
     "text": [
      "Accuracy: 0.8341208234897064\n",
      "F1: 0.7735411437691138\n"
     ]
    }
   ],
   "source": [
    "model_svm = SVC(kernel='rbf', C=10, gamma=1)\n",
    "model_svm.fit(X_train_tfidf, y_train)\n",
    "pred_svm = model_svm.predict(X_dev_tfidf)\n",
    "\n",
    "print('Accuracy:', accuracy_score(y_dev, pred_svm))\n",
    "print('F1:', f1_score(y_dev, pred_svm, average='macro'))"
   ]
  },
  {
   "cell_type": "markdown",
   "metadata": {
    "id": "bYzvruCI-Hmr"
   },
   "source": [
    "It can be seen the SVM model gives a slightly better result, hence is selected as our final model."
   ]
  },
  {
   "cell_type": "markdown",
   "metadata": {
    "id": "wLDC-E8qeF9t"
   },
   "source": [
    "### Save output file\n",
    "Write the predictions into a csv file."
   ]
  },
  {
   "cell_type": "code",
   "execution_count": null,
   "metadata": {
    "id": "mPs32zmGea8h"
   },
   "outputs": [],
   "source": [
    "output_df = pd.DataFrame(pred_svm, columns=['prediction'])"
   ]
  },
  {
   "cell_type": "code",
   "execution_count": null,
   "metadata": {
    "id": "E6eGXBDCeEAv"
   },
   "outputs": [],
   "source": [
    "output_df.to_csv('task_a_pred.csv', index=False)"
   ]
  },
  {
   "cell_type": "markdown",
   "metadata": {
    "id": "WlHw1ty-QyFP"
   },
   "source": [
    "### Save model"
   ]
  },
  {
   "cell_type": "code",
   "execution_count": null,
   "metadata": {
    "colab": {
     "base_uri": "https://localhost:8080/"
    },
    "executionInfo": {
     "elapsed": 211,
     "status": "ok",
     "timestamp": 1713730263560,
     "user": {
      "displayName": "Meggie Zheng",
      "userId": "02292834133162077889"
     },
     "user_tz": -60
    },
    "id": "DYBA2EJMQxYv",
    "outputId": "3b78f5c8-259e-4251-d9f4-90d473992161"
   },
   "outputs": [
    {
     "name": "stdout",
     "output_type": "stream",
     "text": [
      "Model Saved\n"
     ]
    }
   ],
   "source": [
    "with open('model_svm.pkl', 'wb') as file:\n",
    "    pickle.dump(model_svm, file)\n",
    "print('Model Saved')"
   ]
  },
  {
   "cell_type": "code",
   "execution_count": null,
   "metadata": {
    "id": "0WZe1HffRhbo"
   },
   "outputs": [],
   "source": [
    "# read the model\n",
    "\n",
    "# with open('model_svm.pkl', 'rb') as file:\n",
    "#     clf_svm = pickle.load(file)"
   ]
  },
  {
   "cell_type": "markdown",
   "metadata": {
    "id": "hxSY3NGfQtAH"
   },
   "source": [
    "## Evaluation\n",
    "The evaluation of the SVM model using development file can be checked here: https://colab.research.google.com/drive/1QPrZZIAHhJSoKdOt45ULcuHIytDHC5Vp?usp=drive_link"
   ]
  }
 ],
 "metadata": {
  "colab": {
   "provenance": [],
   "toc_visible": true
  },
  "kernelspec": {
   "display_name": "Python 3",
   "language": "python",
   "name": "python3"
  },
  "language_info": {
   "codemirror_mode": {
    "name": "ipython",
    "version": 3
   },
   "file_extension": ".py",
   "mimetype": "text/x-python",
   "name": "python",
   "nbconvert_exporter": "python",
   "pygments_lexer": "ipython3",
   "version": "3.10.2"
  }
 },
 "nbformat": 4,
 "nbformat_minor": 4
}
